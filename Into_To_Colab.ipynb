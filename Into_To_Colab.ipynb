{
  "nbformat": 4,
  "nbformat_minor": 0,
  "metadata": {
    "colab": {
      "provenance": [],
      "authorship_tag": "ABX9TyN8ecLxA2U0lU8yHfUJ3M/m",
      "include_colab_link": true
    },
    "kernelspec": {
      "name": "python3",
      "display_name": "Python 3"
    },
    "language_info": {
      "name": "python"
    }
  },
  "cells": [
    {
      "cell_type": "markdown",
      "metadata": {
        "id": "view-in-github",
        "colab_type": "text"
      },
      "source": [
        "<a href=\"https://colab.research.google.com/github/TheOnlyMrsSpock/Test_Public_Repository/blob/main/Into_To_Colab.ipynb\" target=\"_parent\"><img src=\"https://colab.research.google.com/assets/colab-badge.svg\" alt=\"Open In Colab\"/></a>"
      ]
    },
    {
      "cell_type": "code",
      "execution_count": 1,
      "metadata": {
        "colab": {
          "base_uri": "https://localhost:8080/"
        },
        "id": "5tOHTXDpeaC2",
        "outputId": "2eb3f0fc-0588-4d8e-e2ac-fc720d7e5552"
      },
      "outputs": [
        {
          "output_type": "stream",
          "name": "stdout",
          "text": [
            "hello World\n"
          ]
        }
      ],
      "source": [
        "print(\"hello World\")"
      ]
    },
    {
      "cell_type": "markdown",
      "source": [
        "# Das ist eine Überschrift?\n",
        "\n",
        "## Und das ist eine Kapitelüberschrift?\n",
        "\n",
        "- Das ist aufgezählter Text\n",
        "\n",
        "Und das ist normaler Text."
      ],
      "metadata": {
        "id": "RmTAAFMkgjzc"
      }
    }
  ]
}